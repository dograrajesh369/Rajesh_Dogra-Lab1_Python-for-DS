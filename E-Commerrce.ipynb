{
 "cells": [
  {
   "cell_type": "markdown",
   "id": "19cb275d",
   "metadata": {},
   "source": [
    "# Lab Session"
   ]
  },
  {
   "cell_type": "markdown",
   "id": "49f7ba9a",
   "metadata": {},
   "source": [
    "## <font color='blue'> Table Of Contents </font>\n",
    "- Problem Statement \n",
    "- Load required libraries\n",
    "- Connect to DB using mysql-connector-python package\n",
    "- Create database named `e_commerce`\n",
    "- Create tables and insert data into tables as specified in the question\n",
    "- Read all the questions and write sql queries to meet the objective "
   ]
  },
  {
   "cell_type": "markdown",
   "id": "37ca7575",
   "metadata": {},
   "source": [
    "## <font color='blue'> Problem Statement </font>\n",
    "###  An E-commerce website manages its data in the form of various tables.\n",
    "You need to create a Database called `e_commerce` and various tables in it. The tables needed and attributes which need to be in every table are given before hand. All you have to do is create tables with data in it and answer some of the questions that follows."
   ]
  },
  {
   "cell_type": "markdown",
   "id": "edb175a0",
   "metadata": {},
   "source": [
    "### Load Required Libraries"
   ]
  },
  {
   "cell_type": "code",
   "execution_count": 30,
   "id": "1b894b8f",
   "metadata": {},
   "outputs": [],
   "source": [
    "import mysql.connector\n",
    "import numpy as np\n",
    "import pandas as pd"
   ]
  },
  {
   "cell_type": "markdown",
   "id": "ba907d59",
   "metadata": {},
   "source": [
    "### Connect to DB using Mysql-connector-python package"
   ]
  },
  {
   "cell_type": "code",
   "execution_count": 31,
   "id": "52fcf0ac",
   "metadata": {},
   "outputs": [],
   "source": [
    "## Lets connect to Mysql server and choose the database('E-Commerrce') while connecting to the server\n",
    "\n",
    "connection = mysql.connector.connect(host = 'localhost',\n",
    "                                    user = 'root',\n",
    "                                    passwd = \"88023@Rade\")\n",
    "cursorobject = connection.cursor()"
   ]
  },
  {
   "cell_type": "markdown",
   "id": "11c8b24c",
   "metadata": {},
   "source": [
    "### Create a database named 'E_COMMERRCE'"
   ]
  },
  {
   "cell_type": "code",
   "execution_count": 32,
   "id": "0254023e",
   "metadata": {},
   "outputs": [],
   "source": [
    "## Lets make a connection to Mysql server and create a database named 'E-Commerrce'\n",
    "connection = mysql.connector.connect(host = 'localhost',\n",
    "                                    user = 'root',\n",
    "                                    passwd = '88023@Rade')\n",
    "## creating a cursor object\n",
    "cursorobject = connection.cursor()\n",
    "\n",
    "## creating database\n",
    "cursorobject.execute(\"CREATE DATABASE E_COMMERRCE\")\n",
    "\n",
    "## closing the connection after creating a database('e_commerce')\n",
    "connection.close()"
   ]
  },
  {
   "cell_type": "code",
   "execution_count": 33,
   "id": "5c78068b",
   "metadata": {},
   "outputs": [],
   "source": [
    "## Again connect to the Mysql server and while connecting Choose 'E_COMMERRCE' database\n",
    "connection = mysql.connector.connect(host = 'localhost',\n",
    "                                    user = 'root',\n",
    "                                    passwd = '88023@Rade',\n",
    "                                    database = 'E_COMMERRCE')\n",
    "## creating a cursor object\n",
    "cursorobject = connection.cursor()"
   ]
  },
  {
   "cell_type": "markdown",
   "id": "73dabb9d",
   "metadata": {},
   "source": [
    "### Q1. Create tables for supplier, customer, category, product, productDetails, order, rating to store the data for the E-commerce with the schema definition given below.\n",
    "\n",
    "\n",
    "- **`supplier`**(SUPP_ID int primary key, SUPP_NAME varchar(50), SUPP_CITY varchar(50), SUPP_PHONE varchar(10))\n",
    "\n",
    "\n",
    "- **`customer`** (CUS_ID INT NOT NULL, CUS_NAME VARCHAR(20) NULL DEFAULT NULL, CUS_PHONE VARCHAR(10), CUS_CITY varchar(30) ,CUS_GENDER CHAR,PRIMARY KEY (CUS_ID))\n",
    "\n",
    "\n",
    "- **`category`** (CAT_ID INT NOT NULL, CAT_NAME VARCHAR(20) NULL DEFAULT NULL,PRIMARY KEY (CAT_ID))\n",
    "\n",
    "\n",
    "- **`product`** (PRO_ID INT NOT NULL, PRO_NAME VARCHAR(20) NULL DEFAULT NULL, PRO_DESC VARCHAR(60) NULL DEFAULT NULL, CAT_ID INT NOT NULL,PRIMARY KEY (PRO_ID),FOREIGN KEY (CAT_ID) REFERENCES CATEGORY (CAT_ID))\n",
    "\n",
    "\n",
    "- **`product_details`** (PROD_ID INT NOT NULL, PRO_ID INT NOT NULL, SUPP_ID INT NOT NULL, PROD_PRICE INT NOT NULL,\n",
    "  PRIMARY KEY (PROD_ID),FOREIGN KEY (PRO_ID) REFERENCES PRODUCT (PRO_ID), FOREIGN KEY (SUPP_ID) REFERENCES SUPPLIER(SUPP_ID))\n",
    "  \n",
    "  \n",
    "- **`order`** (ORD_ID INT NOT NULL, ORD_AMOUNT INT NOT NULL, ORD_DATE DATE, CUS_ID INT NOT NULL, PROD_ID INT NOT NULL,PRIMARY KEY (ORD_ID),FOREIGN KEY (CUS_ID) REFERENCES CUSTOMER(CUS_ID),FOREIGN KEY (PROD_ID) REFERENCES PRODUCT_DETAILS(PROD_ID))\n",
    "\n",
    "\n",
    "- **`rating`** (RAT_ID INT NOT NULL, CUS_ID INT NOT NULL, SUPP_ID INT NOT NULL, RAT_RATSTARS INT NOT NULL,PRIMARY KEY (RAT_ID),FOREIGN KEY (SUPP_ID) REFERENCES SUPPLIER (SUPP_ID),FOREIGN KEY (CUS_ID) REFERENCES CUSTOMER(CUS_ID))"
   ]
  },
  {
   "cell_type": "code",
   "execution_count": 34,
   "id": "e8b47981",
   "metadata": {},
   "outputs": [
    {
     "data": {
      "text/html": [
       "<div>\n",
       "<style scoped>\n",
       "    .dataframe tbody tr th:only-of-type {\n",
       "        vertical-align: middle;\n",
       "    }\n",
       "\n",
       "    .dataframe tbody tr th {\n",
       "        vertical-align: top;\n",
       "    }\n",
       "\n",
       "    .dataframe thead th {\n",
       "        text-align: right;\n",
       "    }\n",
       "</style>\n",
       "<table border=\"1\" class=\"dataframe\">\n",
       "  <thead>\n",
       "    <tr style=\"text-align: right;\">\n",
       "      <th></th>\n",
       "      <th>supplier</th>\n",
       "      <th>customer</th>\n",
       "      <th>category</th>\n",
       "      <th>product</th>\n",
       "      <th>product_details</th>\n",
       "      <th>orders</th>\n",
       "      <th>rating</th>\n",
       "    </tr>\n",
       "  </thead>\n",
       "  <tbody>\n",
       "  </tbody>\n",
       "</table>\n",
       "</div>"
      ],
      "text/plain": [
       "Empty DataFrame\n",
       "Columns: [supplier, customer, category, product, product_details, orders, rating]\n",
       "Index: []"
      ]
     },
     "execution_count": 34,
     "metadata": {},
     "output_type": "execute_result"
    }
   ],
   "source": [
    "table_creation_query =\"\"\"create table supplier(\n",
    "                                                SUPP_ID int primary key,\n",
    "                                                SUPP_NAME varchar(50),\n",
    "                                                SUPP_CITY varchar(50),\n",
    "                                                SUPP_PHONE varchar(10)\n",
    "                                                );\n",
    "                         \n",
    "                         create table customer(\n",
    "                                                CUS_ID INT NOT NULL, \n",
    "                                                CUS_NAME VARCHAR(20) NULL DEFAULT NULL, \n",
    "                                                CUS_PHONE VARCHAR(10),\n",
    "                                                CUS_CITY varchar(30) ,\n",
    "                                                CUS_GENDER CHAR,\n",
    "                                                primary key(CUS_ID)\n",
    "                                                );\n",
    "                         \n",
    "                         create table category(\n",
    "                                                CAT_ID INT NOT NULL, \n",
    "                                                CAT_NAME VARCHAR(20) NULL DEFAULT NULL,\n",
    "                                                PRIMARY KEY (CAT_ID)\n",
    "                                                );\n",
    "                         \n",
    "                         create table product(\n",
    "                                                PRO_ID INT NOT NULL, \n",
    "                                                PRO_NAME VARCHAR(20) NULL DEFAULT NULL, \n",
    "                                                PRO_DESC VARCHAR(60) NULL DEFAULT NULL, \n",
    "                                                CAT_ID INT NOT NULL,\n",
    "                                                PRIMARY KEY (PRO_ID),\n",
    "                                                FOREIGN KEY (CAT_ID) REFERENCES CATEGORY (CAT_ID)\n",
    "                                                );\n",
    "                         \n",
    "                         create table product_details(\n",
    "                                                PROD_ID INT NOT NULL, \n",
    "                                                PRO_ID INT NOT NULL, \n",
    "                                                SUPP_ID INT NOT NULL, \n",
    "                                                PROD_PRICE INT NOT NULL,\n",
    "                                                PRIMARY KEY (PROD_ID),\n",
    "                                                FOREIGN KEY (PRO_ID) REFERENCES PRODUCT (PRO_ID), \n",
    "                                                FOREIGN KEY (SUPP_ID) REFERENCES SUPPLIER(SUPP_ID)\n",
    "                                                );\n",
    "                         \n",
    "                         create table orders(\n",
    "                                             ORD_ID INT NOT NULL, \n",
    "                                             ORD_AMOUNT INT NOT NULL, \n",
    "                                             ORD_DATE DATE, CUS_ID INT NOT NULL, \n",
    "                                             PROD_ID INT NOT NULL,\n",
    "                                             PRIMARY KEY (ORD_ID),\n",
    "                                             FOREIGN KEY (CUS_ID) REFERENCES CUSTOMER(CUS_ID),\n",
    "                                             FOREIGN KEY (PROD_ID) REFERENCES PRODUCT_DETAILS(PROD_ID)\n",
    "                                             );\n",
    "                         \n",
    "                         create table rating(\n",
    "                                             RAT_ID INT NOT NULL, \n",
    "                                             CUS_ID INT NOT NULL, \n",
    "                                             SUPP_ID INT NOT NULL, \n",
    "                                             RAT_RATSTARS INT NOT NULL,\n",
    "                                             PRIMARY KEY (RAT_ID),\n",
    "                                             FOREIGN KEY (SUPP_ID) REFERENCES SUPPLIER (SUPP_ID),\n",
    "                                             FOREIGN KEY (CUS_ID) REFERENCES CUSTOMER(CUS_ID)\n",
    "                                             );\"\"\"\n",
    "\n",
    "#executing the query\n",
    "cursorobject.execute(table_creation_query)\n",
    "output = cursorobject.fetchall()\n",
    "\n",
    "output_df = pd.DataFrame(output,columns = ['supplier','customer','category','product','product_details','orders','rating'])\n",
    "\n",
    "output_df"
   ]
  },
  {
   "cell_type": "code",
   "execution_count": 35,
   "id": "686af8e4",
   "metadata": {},
   "outputs": [],
   "source": [
    "## After creating tables close the connection and reconnect to the server for inserting the data \n",
    "\n",
    "## closing the connection \n",
    "connection.close()\n",
    "\n",
    "## Lets make a connection to Mysql server and choose database 'e_commerce'\n",
    "connection = mysql.connector.connect(host = 'localhost',\n",
    "                                    user = 'root',\n",
    "                                    passwd = '88023@Rade',\n",
    "                                    database = 'E_COMMERRCE')\n",
    "## creating a cursor object\n",
    "cursorobject = connection.cursor()"
   ]
  },
  {
   "cell_type": "markdown",
   "id": "c123ede5",
   "metadata": {},
   "source": [
    "## Solution for Q2: Inserting data to the tables"
   ]
  },
  {
   "cell_type": "markdown",
   "id": "06b57eed",
   "metadata": {},
   "source": [
    "### Q2. Insert the following data in the table created above\n",
    "#### `Note:` If you are getting any error while inserting the data into tables, Kindly close the connection and reconnect\n",
    "\n",
    "#### Table:  supplier\n",
    "| SUPP_ID | SUPP_NAME | SUPP_CITY | SUPP_PHONE |\n",
    "| --- | --- | --- | --- | \n",
    "| 1 | Rajesh Retails | Delhi | 1234567890 |\n",
    "| 2 | Appario Ltd. | Mumbai | 258963147032 | \n",
    "| 3 | Knome products | Bangalore | 9785462315 |\n",
    "| 4 | Bansal Retails | Kochi | 8975463285 |\n",
    "| 5 | Mittal Ltd. | Lucknow | 7898456532 |"
   ]
  },
  {
   "cell_type": "code",
   "execution_count": 36,
   "id": "faffd708",
   "metadata": {},
   "outputs": [],
   "source": [
    "## Inserting data into \"supplier\"\n",
    "\n",
    "##`Note:` If you are getting any error while inserting the data into tables, \n",
    "## Kindly close the connection and reconnect\n",
    "insert_supplier =\"\"\"insert into supplier(SUPP_ID,SUPP_NAME,SUPP_CITY,SUPP_PHONE)\n",
    "                    values(%s, %s, %s, %s)\"\"\"\n",
    "\n",
    "val =[(1,'Rajesh Retails','Delhi',1234567890),\n",
    "      (2,'Appario Ltd.','Mumbai',2589631473),\n",
    "     (3,'Knome products','Bangalore',9785462315),\n",
    "      (4,'Bansal Retails','Kochi',8975463285),\n",
    "     (5,'Mittal Ltd.','Lucknow',7898456532)]\n",
    "cursorobject.executemany(insert_supplier,val)\n",
    "connection.commit()"
   ]
  },
  {
   "cell_type": "markdown",
   "id": "a81263dd",
   "metadata": {},
   "source": [
    "#### Table:  customer\n",
    "| CUS_ID | CUS_NAME | SUPP_PHONE | CUS_CITY | CUS_GENDER\n",
    "| --- | --- | --- | --- | --- |\n",
    "| 1 | AAKASH | 9999999999 | DELHI | M |\n",
    "| 2 | AMAN | 9785463215 | NOIDA | M |\n",
    "| 3 | NEHA | 9999999998 | MUMBAI | F |\n",
    "| 4 | MEGHA | 9994562399 | KOLKATA | F |\n",
    "| 5 | PULKIT | 7895999999 | LUCKNOW | M |"
   ]
  },
  {
   "cell_type": "code",
   "execution_count": 37,
   "id": "62fdf6ee",
   "metadata": {},
   "outputs": [],
   "source": [
    "## Inserting data into \"customer\"\n",
    "\n",
    "##`Note:` If you are getting any error while inserting the data into tables, \n",
    "## Kindly close the connection and reconnect\n",
    "\n",
    "insert_customer = \"\"\"insert into customer(CUS_ID,CUS_NAME,CUS_PHONE,CUS_CITY,CUS_GENDER) \n",
    "                    values(%s, %s, %s, %s, %s)\"\"\"\n",
    "val =[(1,'AAKASH',9999999999,'DELHI','M'),\n",
    "      (2,'AMAN',9785463215,'NOIDA','M'),\n",
    "      (3,'NEHA',9999999998,'MUMBAI','F'),\n",
    "      (4,'MEGHA',9994562399,'KOLKATA','F'),\n",
    "      (5,'PULKIT',7895999999,'LUCKNOW','M')]\n",
    "cursorobject.executemany(insert_customer,val)\n",
    "connection.commit()"
   ]
  },
  {
   "cell_type": "markdown",
   "id": "160e84dd",
   "metadata": {},
   "source": [
    "#### Table:  category\n",
    "| CAT_ID | CAT_NAME | \n",
    "| --- | --- |  \n",
    "| 1 | BOOKS |\n",
    "| 2 | GAMES |  \n",
    "| 3 | GROCERIES | \n",
    "| 4 | ELECTRONICS | \n",
    "| 5 | CLOTHES | "
   ]
  },
  {
   "cell_type": "code",
   "execution_count": 38,
   "id": "14034ec7",
   "metadata": {},
   "outputs": [],
   "source": [
    "## Inserting data into \"category\"\n",
    "\n",
    "##`Note:` If you are getting any error while inserting the data into tables, \n",
    "## Kindly close the connection and reconnect\n",
    "\n",
    "\n",
    "insert_category =\"\"\"insert into category(CAT_ID,CAT_NAME)\n",
    "                    values(%s,%s)\"\"\"\n",
    "val =[(1,'BOOKS'),\n",
    "     (2,'GAMES'),\n",
    "     (3,'GROCERIES'),\n",
    "    ( 4,'ELECTRONICS'),\n",
    "     (5,'CLOTHES')]\n",
    "cursorobject.executemany(insert_category,val)\n",
    "connection.commit()"
   ]
  },
  {
   "cell_type": "code",
   "execution_count": 39,
   "id": "10c96369",
   "metadata": {},
   "outputs": [],
   "source": [
    "## closing the connection \n",
    "connection.close()\n",
    "\n",
    "## Lets make a connection to Mysql server and choose database 'e_commerce'\n",
    "connection = mysql.connector.connect(host = 'localhost',\n",
    "                                    user = 'root',\n",
    "                                    passwd = '88023@Rade',\n",
    "                                    database = 'E_COMMERRCE')\n",
    "## creating a cursor object\n",
    "cursorobject = connection.cursor()"
   ]
  },
  {
   "cell_type": "markdown",
   "id": "ffb17cd0",
   "metadata": {},
   "source": [
    "#### Table:  product\n",
    "| PRO_ID | PRO_NAME | PRO_DESC | CAT_ID |\n",
    "| --- | --- | --- | --- | \n",
    "| 1 | GTA V | DFJDJFDJFDJFDJFJF | 2 |\n",
    "| 2 | TSHIRT | DFDFJDFJDKFD | 5 | \n",
    "| 3 | ROG LAPTOP | DFNTTNTNTERND | 4 |\n",
    "| 4 | OATS | REURENTBTOTH | 3 |\n",
    "| 5 | HARRY POTTER | NBEMCTHTJTH | 1 |\n"
   ]
  },
  {
   "cell_type": "code",
   "execution_count": 40,
   "id": "0e695401",
   "metadata": {},
   "outputs": [],
   "source": [
    "## Inserting data into \"product\"\n",
    "\n",
    "##`Note:` If you are getting any error while inserting the data into tables, \n",
    "## Kindly close the connection and reconnect\n",
    "\n",
    "insert_product= \"\"\"insert into product(PRO_ID,PRO_NAME,PRO_DESC,CAT_ID) \n",
    "                    values(%s, %s, %s, %s)\"\"\"\n",
    "val =[(1,'GTA V','DFJDJFDJFDJFDJFJF',2),\n",
    "     (2,'TSHIRT','DFDFJDFJDKFD',5),\n",
    "     (3,'ROG LAPTOP','DFNTTNTNTERND',4),\n",
    "     (4,'OATS','REURENTBTOTH',3),\n",
    "     (5,'HARRY POTTER','NBEMCTHTJTH',1)]\n",
    "cursorobject.executemany(insert_product,val)\n",
    "connection.commit()"
   ]
  },
  {
   "cell_type": "markdown",
   "id": "e23b1051",
   "metadata": {},
   "source": [
    "#### Table:  product_details\n",
    "| PROD_ID | PRO_ID | SUPP_ID | PROD_PRICE |\n",
    "| --- | --- | --- | --- | \n",
    "| 1 | 1 | 2 | 1500 |\n",
    "| 2 | 3 | 5 | 30000 | \n",
    "| 3 | 5 | 1 | 3000 |\n",
    "| 4 | 2 | 3 | 2500 |\n",
    "| 5 | 4 | 1 | 1000 |"
   ]
  },
  {
   "cell_type": "code",
   "execution_count": 41,
   "id": "7aff2191",
   "metadata": {},
   "outputs": [],
   "source": [
    "## Inserting data into \"product_details\"\n",
    "\n",
    "##`Note:` If you are getting any error while inserting the data into tables, \n",
    "## Kindly close the connection and reconnect\n",
    "\n",
    "insert_product_details = \"\"\"insert into product_details(PROD_ID,PRO_ID,SUPP_ID,PROD_PRICE)\n",
    "                            values(%s, %s ,%s ,%s)\"\"\"\n",
    "val = [(1,1,2,1500),\n",
    "      (2,3,5,30000),\n",
    "      (3,5,1,3000),\n",
    "      (4,2,3,2500),\n",
    "       (5,4,1,1000)]\n",
    "cursorobject.executemany(insert_product_details,val)\n",
    "connection.commit()"
   ]
  },
  {
   "cell_type": "code",
   "execution_count": 42,
   "id": "1531274c",
   "metadata": {},
   "outputs": [],
   "source": [
    "##`Note:` If you are getting any error while inserting the data into tables, \n",
    "## Kindly close the connection and reconnect\n",
    "\n",
    "## closing the connection \n",
    "connection.close()\n",
    "\n",
    "## Lets make a connection to Mysql server and choose database 'e_commerce'\n",
    "connection = mysql.connector.connect(host = 'localhost',\n",
    "                                    user = 'root',\n",
    "                                    passwd = '88023@Rade',\n",
    "                                    database = 'E_COMMERRCE')\n",
    "## creating a cursor object\n",
    "cursorobject = connection.cursor()"
   ]
  },
  {
   "cell_type": "markdown",
   "id": "ccd26f66",
   "metadata": {},
   "source": [
    "#### Table:  orders\n",
    "| ORD_ID | ORD_AMOUNT | ORD_DATE | CUS_ID | PROD_ID\n",
    "| --- | --- | --- | --- | --- |\n",
    "| 20 | 1500 | 2021-10-12 | 3 | 5 |\n",
    "| 25 | 30500 | 2021-09-16 | 5 | 2 |\n",
    "| 26 | 2000 | 2021-10-05 | 1 | 1 |\n",
    "| 30 | 3500 | 2021-08-16 | 4 | 3 |\n",
    "| 50 | 2000 | 2021-10-06 | 2 | 1 |"
   ]
  },
  {
   "cell_type": "code",
   "execution_count": 43,
   "id": "1743e73a",
   "metadata": {
    "scrolled": true
   },
   "outputs": [],
   "source": [
    "## Inserting data into \"orders\"\n",
    "insert_orders = \"\"\"insert into orders(ORD_ID,ORD_AMOUNT,ORD_DATE,CUS_ID,PROD_ID) \n",
    "                    values(%s, %s,%s, %s, %s)\"\"\"\n",
    "val =[(20,1500,'2021-10-12',3,5),\n",
    "     (25,30500,'2021-09-16',5,2),\n",
    "     (26,2000,'2021-10-05',1,1),\n",
    "     (30,3500,'2021-08-16',4,3),\n",
    "     (50,2000,'2021-10-06',2,1)]\n",
    "cursorobject.executemany(insert_orders,val)\n",
    "connection.commit()"
   ]
  },
  {
   "cell_type": "markdown",
   "id": "bdadddba",
   "metadata": {},
   "source": [
    "#### Table: rating\n",
    "| RAT_ID | CUS_ID | SUPP_ID | RAT_RATSTARS |\n",
    "| --- | --- | --- | --- | \n",
    "| 1 | 2 | 2 | 4 |\n",
    "| 2 | 3 | 4 | 3 | \n",
    "| 3 | 5 | 1 | 5 |\n",
    "| 4 | 1 | 3 | 2 |\n",
    "| 5 | 4 | 5 | 4 |"
   ]
  },
  {
   "cell_type": "code",
   "execution_count": 44,
   "id": "2edef4ba",
   "metadata": {},
   "outputs": [],
   "source": [
    "## Inserting data into \"rating\"\n",
    "insert_rating = \"\"\"insert into rating(RAT_ID,CUS_ID,SUPP_ID,RAT_RATSTARS)\n",
    "                    values(%s, %s, %s, %s)\"\"\"\n",
    "val =[(1,2,2,4),\n",
    "     (2,3,4,3),\n",
    "      (3,5,1,5),\n",
    "      (4,1,3,2),\n",
    "     (5,4,5,4)]\n",
    "cursorobject.executemany(insert_rating,val)\n",
    "connection.commit()"
   ]
  },
  {
   "cell_type": "markdown",
   "id": "f5fcc3bf",
   "metadata": {},
   "source": [
    "### Q3) Display the number of the customer group by their genders who have placed any order of amount greater than or equal to Rs.3000."
   ]
  },
  {
   "cell_type": "code",
   "execution_count": 45,
   "id": "772b38a9",
   "metadata": {},
   "outputs": [
    {
     "name": "stdout",
     "output_type": "stream",
     "text": [
      "  cus_gender  count\n",
      "0          M      1\n",
      "1          F      1\n"
     ]
    }
   ],
   "source": [
    "Question_three = \"\"\"select customer.cus_gender,count(customer.cus_gender) as count\n",
    "                    from customer inner join `orders` on customer.cus_id = `orders`.cus_id\n",
    "                    where `orders`.ord_amount>=3000 group by customer.cus_gender\"\"\"\n",
    "\n",
    "cursorobject.execute(Question_three)\n",
    "output = cursorobject.fetchall()\n",
    "\n",
    "output_df = pd.DataFrame(output,columns = ['cus_gender','count'])\n",
    "\n",
    "output_df"
   ]
  },
  {
   "cell_type": "markdown",
   "id": "a4657567",
   "metadata": {},
   "source": [
    "### Q4) Display all the order along with product name ordered by a customer having Customer_Id=2;"
   ]
  },
  {
   "cell_type": "code",
   "execution_count": 46,
   "id": "51aa2d7a",
   "metadata": {},
   "outputs": [
    {
     "data": {
      "text/html": [
       "<div>\n",
       "<style scoped>\n",
       "    .dataframe tbody tr th:only-of-type {\n",
       "        vertical-align: middle;\n",
       "    }\n",
       "\n",
       "    .dataframe tbody tr th {\n",
       "        vertical-align: top;\n",
       "    }\n",
       "\n",
       "    .dataframe thead th {\n",
       "        text-align: right;\n",
       "    }\n",
       "</style>\n",
       "<table border=\"1\" class=\"dataframe\">\n",
       "  <thead>\n",
       "    <tr style=\"text-align: right;\">\n",
       "      <th></th>\n",
       "      <th>ord_id</th>\n",
       "      <th>ord_amount</th>\n",
       "      <th>ord_date</th>\n",
       "      <th>cus_id</th>\n",
       "      <th>prod_id</th>\n",
       "      <th>pro_name</th>\n",
       "    </tr>\n",
       "  </thead>\n",
       "  <tbody>\n",
       "    <tr>\n",
       "      <th>0</th>\n",
       "      <td>50</td>\n",
       "      <td>2000</td>\n",
       "      <td>2021-10-06</td>\n",
       "      <td>2</td>\n",
       "      <td>1</td>\n",
       "      <td>GTA V</td>\n",
       "    </tr>\n",
       "  </tbody>\n",
       "</table>\n",
       "</div>"
      ],
      "text/plain": [
       "   ord_id  ord_amount    ord_date  cus_id  prod_id pro_name\n",
       "0      50        2000  2021-10-06       2        1    GTA V"
      ]
     },
     "execution_count": 46,
     "metadata": {},
     "output_type": "execute_result"
    }
   ],
   "source": [
    "Question_four = \"\"\"select `orders`.*, product.pro_name\n",
    "                    from `orders`, product_details,product\n",
    "                    where `orders`.cus_id = 2 and `orders`.prod_id = product_details.prod_id and product_details.pro_id=product.pro_id\"\"\"\n",
    "cursorobject.execute(Question_four)\n",
    "output = cursorobject.fetchall()\n",
    "output_df = pd.DataFrame(output,columns =['ord_id','ord_amount','ord_date','cus_id','prod_id','pro_name'])\n",
    "output_df"
   ]
  },
  {
   "cell_type": "markdown",
   "id": "8d785f61",
   "metadata": {},
   "source": [
    "### Q5) Display the Supplier details who can supply more than one product."
   ]
  },
  {
   "cell_type": "code",
   "execution_count": 47,
   "id": "d1b9e7b1",
   "metadata": {},
   "outputs": [
    {
     "data": {
      "text/html": [
       "<div>\n",
       "<style scoped>\n",
       "    .dataframe tbody tr th:only-of-type {\n",
       "        vertical-align: middle;\n",
       "    }\n",
       "\n",
       "    .dataframe tbody tr th {\n",
       "        vertical-align: top;\n",
       "    }\n",
       "\n",
       "    .dataframe thead th {\n",
       "        text-align: right;\n",
       "    }\n",
       "</style>\n",
       "<table border=\"1\" class=\"dataframe\">\n",
       "  <thead>\n",
       "    <tr style=\"text-align: right;\">\n",
       "      <th></th>\n",
       "      <th>supp_id</th>\n",
       "      <th>supp_name</th>\n",
       "      <th>supp_city</th>\n",
       "      <th>supp_phone</th>\n",
       "    </tr>\n",
       "  </thead>\n",
       "  <tbody>\n",
       "    <tr>\n",
       "      <th>0</th>\n",
       "      <td>1</td>\n",
       "      <td>Rajesh Retails</td>\n",
       "      <td>Delhi</td>\n",
       "      <td>1234567890</td>\n",
       "    </tr>\n",
       "  </tbody>\n",
       "</table>\n",
       "</div>"
      ],
      "text/plain": [
       "   supp_id       supp_name supp_city  supp_phone\n",
       "0        1  Rajesh Retails     Delhi  1234567890"
      ]
     },
     "execution_count": 47,
     "metadata": {},
     "output_type": "execute_result"
    }
   ],
   "source": [
    "Question_five = \"\"\"select supplier.*\n",
    "                    from supplier,product_details\n",
    "                    where supplier.supp_id in\n",
    "                    (select product_details.supp_id from product_details\n",
    "                    group by product_details.supp_id having count(product_details.supp_id)>1)\n",
    "                    group by supplier.supp_id;\"\"\"\n",
    "\n",
    "cursorobject.execute(Question_five)\n",
    "output = cursorobject.fetchall()\n",
    "\n",
    "output_df = pd.DataFrame(output,columns = ['supp_id','supp_name','supp_city','supp_phone'])\n",
    "output_df"
   ]
  },
  {
   "cell_type": "code",
   "execution_count": 48,
   "id": "31aebf70",
   "metadata": {},
   "outputs": [],
   "source": [
    "## closing the connection \n",
    "connection.close()\n",
    "\n",
    "## Lets make a connection to Mysql server and choose database 'e_commerce'\n",
    "connection = mysql.connector.connect(host = 'localhost',\n",
    "                                    user = 'root',\n",
    "                                    passwd = '88023@Rade',\n",
    "                                    database = 'E_COMMERRCE')\n",
    "## creating a cursor object\n",
    "cursorobject = connection.cursor()"
   ]
  },
  {
   "cell_type": "markdown",
   "id": "0b38a92a",
   "metadata": {},
   "source": [
    "### Q6) Find the category of the product whose order amount is minimum."
   ]
  },
  {
   "cell_type": "code",
   "execution_count": 49,
   "id": "d5481f8d",
   "metadata": {},
   "outputs": [
    {
     "data": {
      "text/html": [
       "<div>\n",
       "<style scoped>\n",
       "    .dataframe tbody tr th:only-of-type {\n",
       "        vertical-align: middle;\n",
       "    }\n",
       "\n",
       "    .dataframe tbody tr th {\n",
       "        vertical-align: top;\n",
       "    }\n",
       "\n",
       "    .dataframe thead th {\n",
       "        text-align: right;\n",
       "    }\n",
       "</style>\n",
       "<table border=\"1\" class=\"dataframe\">\n",
       "  <thead>\n",
       "    <tr style=\"text-align: right;\">\n",
       "      <th></th>\n",
       "      <th>CAT_ID</th>\n",
       "      <th>CAT_NAME</th>\n",
       "    </tr>\n",
       "  </thead>\n",
       "  <tbody>\n",
       "    <tr>\n",
       "      <th>0</th>\n",
       "      <td>3</td>\n",
       "      <td>GROCERIES</td>\n",
       "    </tr>\n",
       "  </tbody>\n",
       "</table>\n",
       "</div>"
      ],
      "text/plain": [
       "   CAT_ID   CAT_NAME\n",
       "0       3  GROCERIES"
      ]
     },
     "execution_count": 49,
     "metadata": {},
     "output_type": "execute_result"
    }
   ],
   "source": [
    "Question_six = \"\"\"SELECT category.*\n",
    "                  FROM `orders`\n",
    "                  INNER JOIN product_details ON `orders`.prod_id = product_details.prod_id\n",
    "                  INNER JOIN product ON product.pro_id = product_details.pro_id\n",
    "                  INNER JOIN category ON category.cat_id = product.cat_id\n",
    "            WHERE `orders`.ord_amount = (SELECT MIN(ord_amount) FROM `orders`);\"\"\"\n",
    "\n",
    "\n",
    "cursorobject.execute(Question_six)\n",
    "output= cursorobject.fetchall()\n",
    "\n",
    "output_df = pd.DataFrame(output,columns = ['CAT_ID','CAT_NAME'])\n",
    "output_df"
   ]
  },
  {
   "cell_type": "markdown",
   "id": "8da01b48",
   "metadata": {},
   "source": [
    "### Q7) Display the Id and Name of the Product ordered after “2021-10-05”."
   ]
  },
  {
   "cell_type": "code",
   "execution_count": 50,
   "id": "17afa3db",
   "metadata": {},
   "outputs": [
    {
     "data": {
      "text/html": [
       "<div>\n",
       "<style scoped>\n",
       "    .dataframe tbody tr th:only-of-type {\n",
       "        vertical-align: middle;\n",
       "    }\n",
       "\n",
       "    .dataframe tbody tr th {\n",
       "        vertical-align: top;\n",
       "    }\n",
       "\n",
       "    .dataframe thead th {\n",
       "        text-align: right;\n",
       "    }\n",
       "</style>\n",
       "<table border=\"1\" class=\"dataframe\">\n",
       "  <thead>\n",
       "    <tr style=\"text-align: right;\">\n",
       "      <th></th>\n",
       "      <th>pro_id</th>\n",
       "      <th>pro_name</th>\n",
       "    </tr>\n",
       "  </thead>\n",
       "  <tbody>\n",
       "    <tr>\n",
       "      <th>0</th>\n",
       "      <td>4</td>\n",
       "      <td>OATS</td>\n",
       "    </tr>\n",
       "    <tr>\n",
       "      <th>1</th>\n",
       "      <td>1</td>\n",
       "      <td>GTA V</td>\n",
       "    </tr>\n",
       "  </tbody>\n",
       "</table>\n",
       "</div>"
      ],
      "text/plain": [
       "   pro_id pro_name\n",
       "0       4     OATS\n",
       "1       1    GTA V"
      ]
     },
     "execution_count": 50,
     "metadata": {},
     "output_type": "execute_result"
    }
   ],
   "source": [
    "Question_seven =\"\"\"select product.pro_id,product.pro_name\n",
    "                   from `orders` inner join product_details on product_details.prod_id=`orders`.prod_id\n",
    "                   inner join product on product.pro_id=product_details.pro_id where `orders`.ord_date>'2021-10-05';\n",
    "                \"\"\"\n",
    "cursorobject.execute(Question_seven)\n",
    "output = cursorobject.fetchall()\n",
    "\n",
    "output_df =pd.DataFrame(output,columns = ['pro_id','pro_name'])\n",
    "output_df"
   ]
  },
  {
   "cell_type": "markdown",
   "id": "1f5553e2",
   "metadata": {},
   "source": [
    "### Q8) Print the top 3 supplier name and id and rating on the basis of their rating along with the customer name who has given the rating."
   ]
  },
  {
   "cell_type": "code",
   "execution_count": 51,
   "id": "e3939cca",
   "metadata": {},
   "outputs": [
    {
     "data": {
      "text/html": [
       "<div>\n",
       "<style scoped>\n",
       "    .dataframe tbody tr th:only-of-type {\n",
       "        vertical-align: middle;\n",
       "    }\n",
       "\n",
       "    .dataframe tbody tr th {\n",
       "        vertical-align: top;\n",
       "    }\n",
       "\n",
       "    .dataframe thead th {\n",
       "        text-align: right;\n",
       "    }\n",
       "</style>\n",
       "<table border=\"1\" class=\"dataframe\">\n",
       "  <thead>\n",
       "    <tr style=\"text-align: right;\">\n",
       "      <th></th>\n",
       "      <th>supp_id</th>\n",
       "      <th>supp_name</th>\n",
       "      <th>cus_name</th>\n",
       "      <th>rat_ratstars</th>\n",
       "    </tr>\n",
       "  </thead>\n",
       "  <tbody>\n",
       "    <tr>\n",
       "      <th>0</th>\n",
       "      <td>1</td>\n",
       "      <td>Rajesh Retails</td>\n",
       "      <td>PULKIT</td>\n",
       "      <td>5</td>\n",
       "    </tr>\n",
       "    <tr>\n",
       "      <th>1</th>\n",
       "      <td>2</td>\n",
       "      <td>Appario Ltd.</td>\n",
       "      <td>AMAN</td>\n",
       "      <td>4</td>\n",
       "    </tr>\n",
       "    <tr>\n",
       "      <th>2</th>\n",
       "      <td>5</td>\n",
       "      <td>Mittal Ltd.</td>\n",
       "      <td>MEGHA</td>\n",
       "      <td>4</td>\n",
       "    </tr>\n",
       "  </tbody>\n",
       "</table>\n",
       "</div>"
      ],
      "text/plain": [
       "   supp_id       supp_name cus_name  rat_ratstars\n",
       "0        1  Rajesh Retails   PULKIT             5\n",
       "1        2    Appario Ltd.     AMAN             4\n",
       "2        5     Mittal Ltd.    MEGHA             4"
      ]
     },
     "execution_count": 51,
     "metadata": {},
     "output_type": "execute_result"
    }
   ],
   "source": [
    "Question_eight= \"\"\"select supplier.supp_id,supplier.supp_name,customer.cus_name,rating.rat_ratstars\n",
    "                from rating inner join supplier on rating.supp_id=supplier.supp_id\n",
    "                inner join customer on rating.cus_id=customer.cus_id order by rating.rat_ratstars desc limit 3;\"\"\"\n",
    "\n",
    "cursorobject.execute(Question_eight)\n",
    "output = cursorobject.fetchall()\n",
    "output_df = pd.DataFrame(output,columns=['supp_id','supp_name','cus_name','rat_ratstars'])\n",
    "output_df"
   ]
  },
  {
   "cell_type": "markdown",
   "id": "585a17e5",
   "metadata": {},
   "source": [
    "### Q9) Display customer name and gender whose names start or end with character 'A'."
   ]
  },
  {
   "cell_type": "code",
   "execution_count": 52,
   "id": "cfe2b435",
   "metadata": {},
   "outputs": [
    {
     "data": {
      "text/html": [
       "<div>\n",
       "<style scoped>\n",
       "    .dataframe tbody tr th:only-of-type {\n",
       "        vertical-align: middle;\n",
       "    }\n",
       "\n",
       "    .dataframe tbody tr th {\n",
       "        vertical-align: top;\n",
       "    }\n",
       "\n",
       "    .dataframe thead th {\n",
       "        text-align: right;\n",
       "    }\n",
       "</style>\n",
       "<table border=\"1\" class=\"dataframe\">\n",
       "  <thead>\n",
       "    <tr style=\"text-align: right;\">\n",
       "      <th></th>\n",
       "      <th>cus_name</th>\n",
       "      <th>cus_gender</th>\n",
       "    </tr>\n",
       "  </thead>\n",
       "  <tbody>\n",
       "    <tr>\n",
       "      <th>0</th>\n",
       "      <td>AAKASH</td>\n",
       "      <td>M</td>\n",
       "    </tr>\n",
       "    <tr>\n",
       "      <th>1</th>\n",
       "      <td>AMAN</td>\n",
       "      <td>M</td>\n",
       "    </tr>\n",
       "  </tbody>\n",
       "</table>\n",
       "</div>"
      ],
      "text/plain": [
       "  cus_name cus_gender\n",
       "0   AAKASH          M\n",
       "1     AMAN          M"
      ]
     },
     "execution_count": 52,
     "metadata": {},
     "output_type": "execute_result"
    }
   ],
   "source": [
    "Question_Nine = \"\"\"select customer.cus_name,customer.cus_gender\n",
    "                    from customer where customer.cus_name like 'A%' or customer.cus_name like 'A%';'\"\"\"\n",
    "\n",
    "cursorobject.execute(Question_Nine)\n",
    "output = cursorobject.fetchall()\n",
    "output_df = pd.DataFrame(output,columns=['cus_name','cus_gender'])\n",
    "output_df"
   ]
  },
  {
   "cell_type": "code",
   "execution_count": 53,
   "id": "721928a2",
   "metadata": {},
   "outputs": [],
   "source": [
    "## closing the connection \n",
    "connection.close()\n",
    "\n",
    "## Lets make a connection to Mysql server and choose database 'e_commerce'\n",
    "connection = mysql.connector.connect(host = 'localhost',\n",
    "                                    user = 'root',\n",
    "                                    passwd = '88023@Rade',\n",
    "                                    database = 'E_COMMERRCE')\n",
    "## creating a cursor object\n",
    "cursorobject = connection.cursor()"
   ]
  },
  {
   "cell_type": "markdown",
   "id": "cb0b6594",
   "metadata": {},
   "source": [
    "### Q10) Display the total order amount of the male customers."
   ]
  },
  {
   "cell_type": "code",
   "execution_count": 54,
   "id": "d6e1fa9b",
   "metadata": {},
   "outputs": [
    {
     "name": "stdout",
     "output_type": "stream",
     "text": [
      "Amount is [('AAKASH', 'M'), ('AMAN', 'M')]\n"
     ]
    }
   ],
   "source": [
    "Question_ten = \"\"\"select sum(`orders`.ord_amount) as amount\n",
    "                 from `orders` inner join customer on `orders`.cus_id = customer.cus_id where customer.cus_gender ='m'\"\"\"\n",
    "\n",
    "cursorobject.execute(Question_ten)\n",
    "output_df = cursorobject.fetchall()\n",
    "print(\"Amount is\", output)"
   ]
  },
  {
   "cell_type": "markdown",
   "id": "bf170b3b",
   "metadata": {},
   "source": [
    "### Q11) Display all the Customers left outer join with  the orders"
   ]
  },
  {
   "cell_type": "code",
   "execution_count": 55,
   "id": "08d18019",
   "metadata": {},
   "outputs": [
    {
     "data": {
      "text/html": [
       "<div>\n",
       "<style scoped>\n",
       "    .dataframe tbody tr th:only-of-type {\n",
       "        vertical-align: middle;\n",
       "    }\n",
       "\n",
       "    .dataframe tbody tr th {\n",
       "        vertical-align: top;\n",
       "    }\n",
       "\n",
       "    .dataframe thead th {\n",
       "        text-align: right;\n",
       "    }\n",
       "</style>\n",
       "<table border=\"1\" class=\"dataframe\">\n",
       "  <thead>\n",
       "    <tr style=\"text-align: right;\">\n",
       "      <th></th>\n",
       "      <th>cus_id</th>\n",
       "      <th>cus_name</th>\n",
       "      <th>cus_phone</th>\n",
       "      <th>cus_city</th>\n",
       "      <th>cus_gender</th>\n",
       "      <th>ord_id</th>\n",
       "      <th>ord_amount</th>\n",
       "      <th>ord_date</th>\n",
       "      <th>cus_id</th>\n",
       "      <th>prod_id</th>\n",
       "    </tr>\n",
       "  </thead>\n",
       "  <tbody>\n",
       "    <tr>\n",
       "      <th>0</th>\n",
       "      <td>1</td>\n",
       "      <td>AAKASH</td>\n",
       "      <td>9999999999</td>\n",
       "      <td>DELHI</td>\n",
       "      <td>M</td>\n",
       "      <td>26</td>\n",
       "      <td>2000</td>\n",
       "      <td>2021-10-05</td>\n",
       "      <td>1</td>\n",
       "      <td>1</td>\n",
       "    </tr>\n",
       "    <tr>\n",
       "      <th>1</th>\n",
       "      <td>2</td>\n",
       "      <td>AMAN</td>\n",
       "      <td>9785463215</td>\n",
       "      <td>NOIDA</td>\n",
       "      <td>M</td>\n",
       "      <td>50</td>\n",
       "      <td>2000</td>\n",
       "      <td>2021-10-06</td>\n",
       "      <td>2</td>\n",
       "      <td>1</td>\n",
       "    </tr>\n",
       "    <tr>\n",
       "      <th>2</th>\n",
       "      <td>3</td>\n",
       "      <td>NEHA</td>\n",
       "      <td>9999999998</td>\n",
       "      <td>MUMBAI</td>\n",
       "      <td>F</td>\n",
       "      <td>20</td>\n",
       "      <td>1500</td>\n",
       "      <td>2021-10-12</td>\n",
       "      <td>3</td>\n",
       "      <td>5</td>\n",
       "    </tr>\n",
       "    <tr>\n",
       "      <th>3</th>\n",
       "      <td>4</td>\n",
       "      <td>MEGHA</td>\n",
       "      <td>9994562399</td>\n",
       "      <td>KOLKATA</td>\n",
       "      <td>F</td>\n",
       "      <td>30</td>\n",
       "      <td>3500</td>\n",
       "      <td>2021-08-16</td>\n",
       "      <td>4</td>\n",
       "      <td>3</td>\n",
       "    </tr>\n",
       "    <tr>\n",
       "      <th>4</th>\n",
       "      <td>5</td>\n",
       "      <td>PULKIT</td>\n",
       "      <td>7895999999</td>\n",
       "      <td>LUCKNOW</td>\n",
       "      <td>M</td>\n",
       "      <td>25</td>\n",
       "      <td>30500</td>\n",
       "      <td>2021-09-16</td>\n",
       "      <td>5</td>\n",
       "      <td>2</td>\n",
       "    </tr>\n",
       "  </tbody>\n",
       "</table>\n",
       "</div>"
      ],
      "text/plain": [
       "   cus_id cus_name   cus_phone cus_city cus_gender  ord_id  ord_amount  \\\n",
       "0       1   AAKASH  9999999999    DELHI          M      26        2000   \n",
       "1       2     AMAN  9785463215    NOIDA          M      50        2000   \n",
       "2       3     NEHA  9999999998   MUMBAI          F      20        1500   \n",
       "3       4    MEGHA  9994562399  KOLKATA          F      30        3500   \n",
       "4       5   PULKIT  7895999999  LUCKNOW          M      25       30500   \n",
       "\n",
       "     ord_date  cus_id  prod_id  \n",
       "0  2021-10-05       1        1  \n",
       "1  2021-10-06       2        1  \n",
       "2  2021-10-12       3        5  \n",
       "3  2021-08-16       4        3  \n",
       "4  2021-09-16       5        2  "
      ]
     },
     "execution_count": 55,
     "metadata": {},
     "output_type": "execute_result"
    }
   ],
   "source": [
    "Question_eleven = \"\"\"select * from customer left outer join `orders` on customer.cus_id=`orders`.cus_id;\"\"\"\n",
    "\n",
    "cursorobject.execute(Question_eleven)\n",
    "output = cursorobject.fetchall()\n",
    "output_df = pd.DataFrame(output,columns = ['cus_id','cus_name','cus_phone','cus_city','cus_gender','ord_id','ord_amount','ord_date','cus_id','prod_id'])\n",
    "output_df"
   ]
  },
  {
   "cell_type": "markdown",
   "id": "b3885599",
   "metadata": {},
   "source": [
    "**NOTE:** Always close an open connection once you are done with the database operations"
   ]
  },
  {
   "cell_type": "markdown",
   "id": "9c5c5854",
   "metadata": {},
   "source": [
    "## Happy Learning:)"
   ]
  }
 ],
 "metadata": {
  "kernelspec": {
   "display_name": "Python 3 (ipykernel)",
   "language": "python",
   "name": "python3"
  },
  "language_info": {
   "codemirror_mode": {
    "name": "ipython",
    "version": 3
   },
   "file_extension": ".py",
   "mimetype": "text/x-python",
   "name": "python",
   "nbconvert_exporter": "python",
   "pygments_lexer": "ipython3",
   "version": "3.9.13"
  }
 },
 "nbformat": 4,
 "nbformat_minor": 5
}
